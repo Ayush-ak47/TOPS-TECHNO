{
  "nbformat": 4,
  "nbformat_minor": 0,
  "metadata": {
    "colab": {
      "provenance": []
    },
    "kernelspec": {
      "name": "python3",
      "display_name": "Python 3"
    },
    "language_info": {
      "name": "python"
    }
  },
  "cells": [
    {
      "cell_type": "markdown",
      "source": [
        "1. Key Statistical Concepts (Brief Explanation)\n",
        "Mean (Average): Sum of all values divided by the number of values. It gives the central value of a dataset.\n",
        "\n",
        "Median: The middle value when data is arranged in order. Useful when data has outliers.\n",
        "\n",
        "Mode: The most frequently occurring value(s) in a dataset.\n",
        "\n",
        "Standard Deviation: Measures how spread out the data is around the mean.\n",
        "\n",
        "Variance: The square of the standard deviation; also measures data dispersion.\n",
        "\n",
        "Range: Difference between the maximum and minimum values.\n",
        "\n",
        "Skewness: Indicates if data is symmetrically distributed or skewed.\n",
        "\n",
        "Kurtosis: Measures the \"peakedness\" of the data distribution.\n",
        "\n",
        "Probability Distribution: A function that describes the likelihood of different outcomes.\n",
        "\n",
        "Outliers: Data points that differ significantly from other observations."
      ],
      "metadata": {
        "id": "4kjn7VY4e1qI"
      }
    },
    {
      "cell_type": "markdown",
      "source": [
        "2. Presentation: Importance of Probability in Machine Learning (Summary)\n",
        "Predictive Modeling: Probability helps in estimating the likelihood of outcomes (e.g., will a customer churn?).\n",
        "\n",
        "Algorithms Based on Probability: Naïve Bayes, Hidden Markov Models, and Bayesian Networks.\n",
        "\n",
        "Uncertainty Quantification: Helps deal with incomplete data or noisy inputs.\n",
        "\n",
        "Model Evaluation: Techniques like cross-validation, AUC-ROC, and confusion matrix are based on probability.\n",
        "\n",
        "Real-World Decisions: Used in risk assessment, recommendation systems, fraud detection, etc."
      ],
      "metadata": {
        "id": "_Y9gTaoUez_m"
      }
    },
    {
      "cell_type": "code",
      "source": [
        "import numpy as np\n",
        "\n",
        "data = [3, 2, 5, 4, 7, 2, 3, 3, 1, 6, 4, 2, 3, 5, 2, 4, 2, 1, 3, 5,\n",
        "        6, 3, 2, 1, 4, 2, 4, 5, 3, 2, 7, 2, 3, 4, 5, 1, 6, 2, 4, 3,\n",
        "        5, 3, 2, 4, 2, 6, 3, 2, 4, 5]\n",
        "\n",
        "mean_duration = np.mean(data)\n",
        "print(\"Mean:\", mean_duration)\n",
        "\n",
        "median_duration = np.median(data)\n",
        "print(\"Median:\", median_duration)\n",
        "\n",
        "from collections import Counter\n",
        "frequency = Counter(data)\n",
        "mode_value, mode_count = frequency.most_common(1)[0]\n",
        "\n",
        "print(\"Mode:\", mode_value, \"| Count:\", mode_count)\n"
      ],
      "metadata": {
        "colab": {
          "base_uri": "https://localhost:8080/"
        },
        "id": "YrVDX3kSfMa8",
        "outputId": "1059ec34-f93a-4f57-abbd-fa0d268ca533"
      },
      "execution_count": 2,
      "outputs": [
        {
          "output_type": "stream",
          "name": "stdout",
          "text": [
            "Mean: 3.44\n",
            "Median: 3.0\n",
            "Mode: 2 | Count: 13\n"
          ]
        }
      ]
    },
    {
      "cell_type": "code",
      "source": [
        "delivery_times = [3, 5, 2, 4, 6, 2, 3, 4, 2, 5, 7, 2, 3, 4, 2, 4, 2, 3, 5, 6,\n",
        "                  3, 2, 1, 4, 2, 4, 5, 3, 2, 7, 2, 3, 4, 5, 1, 6, 2, 4, 3, 5,\n",
        "                  3, 2, 4, 2, 6, 3, 2, 4, 5, 3]\n",
        "\n",
        "range_delivery = max(delivery_times) - min(delivery_times)\n",
        "print(\"Range:\", range_delivery)\n",
        "\n",
        "import numpy as np\n",
        "variance_delivery = np.var(delivery_times)\n",
        "print(\"Variance:\", variance_delivery)\n",
        "\n",
        "std_dev_delivery = np.std(delivery_times)\n",
        "print(\"Standard Deviation:\", std_dev_delivery)"
      ],
      "metadata": {
        "colab": {
          "base_uri": "https://localhost:8080/"
        },
        "id": "hsi8_PQMfz-p",
        "outputId": "8c243767-593c-4d7a-abaf-aa0b140a8a20"
      },
      "execution_count": 3,
      "outputs": [
        {
          "output_type": "stream",
          "name": "stdout",
          "text": [
            "Range: 6\n",
            "Variance: 2.2896\n",
            "Standard Deviation: 1.513142425550219\n"
          ]
        }
      ]
    },
    {
      "cell_type": "code",
      "source": [
        "revenue = [120, 150, 110, 135, 125, 140, 130, 155, 115, 145, 135, 130]\n",
        "\n",
        "mean_revenue = np.mean(revenue)\n",
        "print(\"Average Revenue:\", mean_revenue)\n",
        "range_revenue = max(revenue) - min(revenue)\n",
        "print(\"Range:\", range_revenue)"
      ],
      "metadata": {
        "colab": {
          "base_uri": "https://localhost:8080/"
        },
        "id": "E1HIZcj5hcEs",
        "outputId": "b731a948-3e29-4aaa-e7db-1d312d15810f"
      },
      "execution_count": 4,
      "outputs": [
        {
          "output_type": "stream",
          "name": "stdout",
          "text": [
            "Average Revenue: 132.5\n",
            "Range: 45\n"
          ]
        }
      ]
    },
    {
      "cell_type": "code",
      "source": [
        "model_A = [30, 32, 33, 28, 31, 30, 29, 30, 32, 31]\n",
        "model_B = [25, 27, 26, 23, 28, 24, 26, 25, 27, 28]\n",
        "model_C = [22, 23, 20, 25, 21, 24, 23, 22, 25, 24]\n",
        "model_D = [18, 17, 19, 20, 21, 18, 19, 17, 20, 19]\n",
        "model_E = [35, 36, 34, 35, 33, 34, 32, 33, 36, 34]\n",
        "\n",
        "def analyze_model(data, model_name):\n",
        "    mean = np.mean(data)\n",
        "    range_ = max(data) - min(data)\n",
        "    variance = np.var(data)\n",
        "    print(f\"\\n{model_name}:\")\n",
        "    print(f\"  Average MPG: {mean}\")\n",
        "    print(f\"  Range: {range_}\")\n",
        "    print(f\"  Variance: {variance}\")\n",
        "\n",
        "analyze_model(model_A, \"Model A\")\n",
        "analyze_model(model_B, \"Model B\")\n",
        "analyze_model(model_C, \"Model C\")\n",
        "analyze_model(model_D, \"Model D\")\n",
        "analyze_model(model_E, \"Model E\")\n"
      ],
      "metadata": {
        "colab": {
          "base_uri": "https://localhost:8080/"
        },
        "id": "TCtv_2ZWht8K",
        "outputId": "8b2960ee-0471-4b0e-8869-04750a3b5dbd"
      },
      "execution_count": 5,
      "outputs": [
        {
          "output_type": "stream",
          "name": "stdout",
          "text": [
            "\n",
            "Model A:\n",
            "  Average MPG: 30.6\n",
            "  Range: 5\n",
            "  Variance: 2.0400000000000005\n",
            "\n",
            "Model B:\n",
            "  Average MPG: 25.9\n",
            "  Range: 5\n",
            "  Variance: 2.49\n",
            "\n",
            "Model C:\n",
            "  Average MPG: 22.9\n",
            "  Range: 5\n",
            "  Variance: 2.4899999999999998\n",
            "\n",
            "Model D:\n",
            "  Average MPG: 18.8\n",
            "  Range: 4\n",
            "  Variance: 1.56\n",
            "\n",
            "Model E:\n",
            "  Average MPG: 34.2\n",
            "  Range: 4\n",
            "  Variance: 1.5599999999999998\n"
          ]
        }
      ]
    },
    {
      "cell_type": "markdown",
      "source": [
        "Q-5"
      ],
      "metadata": {
        "id": "TPA62KdViz3s"
      }
    },
    {
      "cell_type": "code",
      "source": [
        "import matplotlib.pyplot as plt\n",
        "\n",
        "defects = ['A', 'B', 'C', 'D', 'E', 'F', 'G']\n",
        "frequencies = [30, 40, 20, 10, 45, 25, 30]\n",
        "\n",
        "plt.bar(defects, frequencies, color='skyblue')\n",
        "plt.title('Frequency of Defect Types')\n",
        "plt.xlabel('Defect Type')\n",
        "plt.ylabel('Frequency')\n",
        "plt.show()\n"
      ],
      "metadata": {
        "colab": {
          "base_uri": "https://localhost:8080/",
          "height": 472
        },
        "id": "i1qBreksh18s",
        "outputId": "0eb23227-088d-4e23-8bab-ac8ebc3b1d6a"
      },
      "execution_count": 6,
      "outputs": [
        {
          "output_type": "display_data",
          "data": {
            "text/plain": [
              "<Figure size 640x480 with 1 Axes>"
            ],
            "image/png": "[encoded data removed]"
          },
          "metadata": {}
        }
      ]
    },
    {
      "cell_type": "code",
      "source": [
        "max_freq = max(frequencies)\n",
        "most_common = defects[frequencies.index(max_freq)]\n",
        "print(\"Most common defect type:\", most_common)\n"
      ],
      "metadata": {
        "colab": {
          "base_uri": "https://localhost:8080/"
        },
        "id": "Cp4qRwuzivCP",
        "outputId": "75866686-9147-4aec-baf5-98e6d116378a"
      },
      "execution_count": 7,
      "outputs": [
        {
          "output_type": "stream",
          "name": "stdout",
          "text": [
            "Most common defect type: E\n"
          ]
        }
      ]
    },
    {
      "cell_type": "code",
      "source": [
        "plt.hist(frequencies, bins=range(0, 51, 5), edgecolor='black')\n",
        "plt.title('Histogram of Defect Frequencies')\n",
        "plt.xlabel('Frequency')\n",
        "plt.ylabel('Count of Defect Types')\n",
        "plt.show()\n"
      ],
      "metadata": {
        "colab": {
          "base_uri": "https://localhost:8080/",
          "height": 472
        },
        "id": "rjVtwjaSi3lh",
        "outputId": "2f21b18d-7484-4943-869b-45486cf594ff"
      },
      "execution_count": 8,
      "outputs": [
        {
          "output_type": "display_data",
          "data": {
            "text/plain": [
              "<Figure size 640x480 with 1 Axes>"
            ],
            "image/png": "[encoded data removed]"
          },
          "metadata": {}
        }
      ]
    },
    {
      "cell_type": "markdown",
      "source": [
        "Q-6"
      ],
      "metadata": {
        "id": "uY07rczMi_vo"
      }
    },
    {
      "cell_type": "code",
      "source": [
        "from scipy.stats import skew, kurtosis\n",
        "\n",
        "ratings = [4, 5, 3, 4, 4, 3, 2, 5, 4, 3, 5, 4, 2, 3, 4, 5, 3, 4, 5, 3, 4, 3, 2, 4, 5, 3, 4, 5, 4, 3,\n",
        "           3, 4, 5, 2, 3, 4, 4, 3, 5, 4, 3, 4, 5, 4, 2, 3, 4, 5, 3, 4, 5, 4, 3, 4, 5, 3, 4, 5, 4, 3,\n",
        "           3, 4, 5, 2, 3, 4, 4, 3, 5, 4, 3, 4, 5, 4, 2, 3, 4, 5, 3, 4, 5, 4, 3, 4, 5, 3, 4, 5, 4, 3,\n",
        "           3, 4, 5, 2, 3, 4, 4, 3, 5, 4]\n",
        "\n",
        "print(\"Skewness:\", skew(ratings))\n",
        "print(\"Kurtosis:\", kurtosis(ratings))\n"
      ],
      "metadata": {
        "colab": {
          "base_uri": "https://localhost:8080/"
        },
        "id": "QU9628yljD_K",
        "outputId": "756dd9ae-c5a2-43b7-f5f4-f2cc731090c1"
      },
      "execution_count": 9,
      "outputs": [
        {
          "output_type": "stream",
          "name": "stdout",
          "text": [
            "Skewness: -0.20773281879682218\n",
            "Kurtosis: -0.767917404014467\n"
          ]
        }
      ]
    },
    {
      "cell_type": "markdown",
      "source": [
        "Q-7"
      ],
      "metadata": {
        "id": "aRTY6eoqjK1f"
      }
    },
    {
      "cell_type": "code",
      "source": [
        "import numpy as np\n",
        "\n",
        "weights = list(range(55, 516, 5))\n",
        "\n",
        "q1 = np.percentile(weights, 25)\n",
        "q2 = np.median(weights)\n",
        "q3 = np.percentile(weights, 75)\n",
        "\n",
        "p15 = np.percentile(weights, 15)\n",
        "p50 = np.percentile(weights, 50)\n",
        "p85 = np.percentile(weights, 85)\n",
        "\n",
        "print(\"Q1:\", q1, \"Q2 (Median):\", q2, \"Q3:\", q3)\n",
        "print(\"15th percentile:\", p15)\n",
        "print(\"50th percentile:\", p50)\n",
        "print(\"85th percentile:\", p85)\n"
      ],
      "metadata": {
        "colab": {
          "base_uri": "https://localhost:8080/"
        },
        "id": "o7jDulI1jL4z",
        "outputId": "95c5d22a-686b-466b-eb6f-044a97446053"
      },
      "execution_count": 10,
      "outputs": [
        {
          "output_type": "stream",
          "name": "stdout",
          "text": [
            "Q1: 170.0 Q2 (Median): 285.0 Q3: 400.0\n",
            "15th percentile: 124.0\n",
            "50th percentile: 285.0\n",
            "85th percentile: 446.0\n"
          ]
        }
      ]
    },
    {
      "cell_type": "markdown",
      "source": [
        "Q-8"
      ],
      "metadata": {
        "id": "r-ngpLhDjOFq"
      }
    },
    {
      "cell_type": "code",
      "source": [
        "from scipy.stats import pearsonr\n",
        "\n",
        "hours = [10, 12, 15, 18, 20, 22, 25, 28, 30, 32, 35, 38, 40, 42, 45, 48, 50, 52, 55, 58, 60, 62, 65, 68, 70, 72, 75, 78, 80, 82]\n",
        "scores = [60, 65, 70, 75, 80, 82, 85, 88, 90, 92, 93, 95, 96, 97, 98, 99, 100, 102, 105, 106, 107, 108, 110, 112, 114, 115, 116, 118, 120, 122]\n",
        "\n",
        "corr, _ = pearsonr(hours, scores)\n",
        "print(\"Correlation coefficient:\", corr)\n"
      ],
      "metadata": {
        "colab": {
          "base_uri": "https://localhost:8080/"
        },
        "id": "4j94FhC0jPUE",
        "outputId": "e703f353-3348-4bf8-86c7-57e0095bc5a7"
      },
      "execution_count": 11,
      "outputs": [
        {
          "output_type": "stream",
          "name": "stdout",
          "text": [
            "Correlation coefficient: 0.9772950830186735\n"
          ]
        }
      ]
    },
    {
      "cell_type": "markdown",
      "source": [
        "Q-9"
      ],
      "metadata": {
        "id": "gEl-assPjY9T"
      }
    },
    {
      "cell_type": "code",
      "source": [
        "from scipy.stats import binom\n",
        "\n",
        "n = 10\n",
        "p = 0.25  # 1 correct out of 4 options\n",
        "\n",
        "prob = binom.sf(7, n, p)  # P(X ≥ 8) = 1 - P(X ≤ 7)\n",
        "print(\"Probability of getting at least 8 correct:\", prob)\n"
      ],
      "metadata": {
        "colab": {
          "base_uri": "https://localhost:8080/"
        },
        "id": "FASGI29gjhRo",
        "outputId": "be3e2ac1-9cee-4a21-818b-5b98acc46a39"
      },
      "execution_count": 12,
      "outputs": [
        {
          "output_type": "stream",
          "name": "stdout",
          "text": [
            "Probability of getting at least 8 correct: 0.000415802001953125\n"
          ]
        }
      ]
    },
    {
      "cell_type": "markdown",
      "source": [
        "Q-10"
      ],
      "metadata": {
        "id": "KudpkDWPjm4E"
      }
    },
    {
      "cell_type": "code",
      "source": [
        "from scipy.stats import norm\n",
        "\n",
        "mu = 1000\n",
        "sigma = 100\n",
        "\n",
        "prob = norm.cdf(1100, mu, sigma) - norm.cdf(900, mu, sigma)\n",
        "print(\"Probability that a bulb lasts between 900 and 1100 hours:\", prob)\n"
      ],
      "metadata": {
        "colab": {
          "base_uri": "https://localhost:8080/"
        },
        "id": "ohY3JC7ljoH5",
        "outputId": "459530d9-2d1b-4a38-88ea-1f0906e5b2cf"
      },
      "execution_count": 13,
      "outputs": [
        {
          "output_type": "stream",
          "name": "stdout",
          "text": [
            "Probability that a bulb lasts between 900 and 1100 hours: 0.6826894921370859\n"
          ]
        }
      ]
    },
    {
      "cell_type": "markdown",
      "source": [
        "Q-11"
      ],
      "metadata": {
        "id": "iJa4IgBjj4Yt"
      }
    },
    {
      "cell_type": "code",
      "source": [
        "import math\n",
        "from scipy.stats import norm\n",
        "\n",
        "n = 100\n",
        "mean = 170\n",
        "std = 8\n",
        "z = norm.ppf(0.975)\n",
        "\n",
        "margin = z * (std / math.sqrt(n))\n",
        "ci = (mean - margin, mean + margin)\n",
        "print(\"95% Confidence Interval:\", ci)\n"
      ],
      "metadata": {
        "colab": {
          "base_uri": "https://localhost:8080/"
        },
        "id": "YVb0HAEqj5cD",
        "outputId": "f7eeea21-fae6-4f30-cc0d-71ac5ac25c3b"
      },
      "execution_count": 14,
      "outputs": [
        {
          "output_type": "stream",
          "name": "stdout",
          "text": [
            "95% Confidence Interval: (np.float64(168.43202881236795), np.float64(171.56797118763205))\n"
          ]
        }
      ]
    },
    {
      "cell_type": "markdown",
      "source": [
        "Q-12"
      ],
      "metadata": {
        "id": "bPLYtk2bj7bm"
      }
    },
    {
      "cell_type": "code",
      "source": [
        "from scipy.stats import t\n",
        "\n",
        "n = 25\n",
        "sample_mean = 510\n",
        "sample_std = 20\n",
        "pop_mean = 500\n",
        "df = n - 1\n",
        "\n",
        "t_stat = (sample_mean - pop_mean) / (sample_std / math.sqrt(n))\n",
        "p_value = 2 * (1 - t.cdf(abs(t_stat), df))\n",
        "\n",
        "print(\"T-statistic:\", t_stat)\n",
        "print(\"P-value:\", p_value)\n"
      ],
      "metadata": {
        "colab": {
          "base_uri": "https://localhost:8080/"
        },
        "id": "y5YywwxFj8c5",
        "outputId": "69ceee83-0c6c-4b4e-d744-04fc1bc52ce8"
      },
      "execution_count": 15,
      "outputs": [
        {
          "output_type": "stream",
          "name": "stdout",
          "text": [
            "T-statistic: 2.5\n",
            "P-value: 0.01965417511657863\n"
          ]
        }
      ]
    },
    {
      "cell_type": "markdown",
      "source": [
        "Q-14"
      ],
      "metadata": {
        "id": "HX5_b58SkD_C"
      }
    },
    {
      "cell_type": "code",
      "source": [
        "import statsmodels.api as sm\n",
        "\n",
        "n = 500\n",
        "x = 320\n",
        "p_hat = x / n\n",
        "ci_low, ci_high = sm.stats.proportion_confint(x, n, alpha=0.10, method='normal')\n",
        "print(\"90% Confidence Interval for proportion:\", (ci_low, ci_high))\n"
      ],
      "metadata": {
        "colab": {
          "base_uri": "https://localhost:8080/"
        },
        "id": "BJNV2J2jkE-O",
        "outputId": "d45e6812-07ca-4938-d428-f6c084683c90"
      },
      "execution_count": 16,
      "outputs": [
        {
          "output_type": "stream",
          "name": "stdout",
          "text": [
            "90% Confidence Interval for proportion: (0.6046911565801545, 0.6753088434198455)\n"
          ]
        }
      ]
    },
    {
      "cell_type": "markdown",
      "source": [
        "Q-15"
      ],
      "metadata": {
        "id": "KgOa0oLVkdWG"
      }
    },
    {
      "cell_type": "code",
      "source": [
        "from scipy.stats import poisson\n",
        "\n",
        "lambda_ = 2\n",
        "x = 3\n",
        "prob = poisson.pmf(x, lambda_)\n",
        "print(\"Probability of exactly 3 defects:\", prob)\n"
      ],
      "metadata": {
        "colab": {
          "base_uri": "https://localhost:8080/"
        },
        "id": "qcz6csegke1c",
        "outputId": "9a119b4d-2199-47fc-c977-893588c92b03"
      },
      "execution_count": 17,
      "outputs": [
        {
          "output_type": "stream",
          "name": "stdout",
          "text": [
            "Probability of exactly 3 defects: 0.18044704431548356\n"
          ]
        }
      ]
    }
  ]
}